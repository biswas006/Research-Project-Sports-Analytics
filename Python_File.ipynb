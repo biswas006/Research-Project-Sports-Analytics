{
 "cells": [
  {
   "cell_type": "code",
   "execution_count": 1,
   "metadata": {
    "id": "p7Xtf5m0Xiv6"
   },
   "outputs": [],
   "source": [
    "import pandas as pd\n",
    "import numpy as np\n",
    "import matplotlib.pyplot as plt\n",
    "import seaborn as sns\n",
    "from sklearn import preprocessing"
   ]
  },
  {
   "cell_type": "code",
   "execution_count": 2,
   "metadata": {
    "colab": {
     "base_uri": "https://localhost:8080/",
     "height": 347
    },
    "id": "AXQGLt2qX71o",
    "outputId": "d9bd199c-67ae-4a09-b47f-5b2d2af14a3b"
   },
   "outputs": [
    {
     "data": {
      "text/html": [
       "<div>\n",
       "<style scoped>\n",
       "    .dataframe tbody tr th:only-of-type {\n",
       "        vertical-align: middle;\n",
       "    }\n",
       "\n",
       "    .dataframe tbody tr th {\n",
       "        vertical-align: top;\n",
       "    }\n",
       "\n",
       "    .dataframe thead th {\n",
       "        text-align: right;\n",
       "    }\n",
       "</style>\n",
       "<table border=\"1\" class=\"dataframe\">\n",
       "  <thead>\n",
       "    <tr style=\"text-align: right;\">\n",
       "      <th></th>\n",
       "      <th>Unnamed: 0</th>\n",
       "      <th>id</th>\n",
       "      <th>Runs_scored</th>\n",
       "      <th>batting_team</th>\n",
       "      <th>bowling_team</th>\n",
       "      <th>No_4s</th>\n",
       "      <th>No_6s</th>\n",
       "      <th>Balls_faced</th>\n",
       "      <th>Strike_rate</th>\n",
       "      <th>city</th>\n",
       "      <th>Man_of_match</th>\n",
       "      <th>No_30</th>\n",
       "      <th>No_50</th>\n",
       "      <th>No_100</th>\n",
       "      <th>Runs_category</th>\n",
       "      <th>date</th>\n",
       "    </tr>\n",
       "  </thead>\n",
       "  <tbody>\n",
       "    <tr>\n",
       "      <th>0</th>\n",
       "      <td>1</td>\n",
       "      <td>392184</td>\n",
       "      <td>10</td>\n",
       "      <td>Kolkata Knight Riders</td>\n",
       "      <td>Deccan Chargers</td>\n",
       "      <td>1</td>\n",
       "      <td>1</td>\n",
       "      <td>12</td>\n",
       "      <td>83.3</td>\n",
       "      <td>Cape Town</td>\n",
       "      <td>0</td>\n",
       "      <td>0</td>\n",
       "      <td>0</td>\n",
       "      <td>0</td>\n",
       "      <td>10_29</td>\n",
       "      <td>2009</td>\n",
       "    </tr>\n",
       "    <tr>\n",
       "      <th>1</th>\n",
       "      <td>2</td>\n",
       "      <td>392186</td>\n",
       "      <td>44</td>\n",
       "      <td>Kolkata Knight Riders</td>\n",
       "      <td>Kings XI Punjab</td>\n",
       "      <td>2</td>\n",
       "      <td>4</td>\n",
       "      <td>29</td>\n",
       "      <td>151.7</td>\n",
       "      <td>Durban</td>\n",
       "      <td>1</td>\n",
       "      <td>1</td>\n",
       "      <td>0</td>\n",
       "      <td>0</td>\n",
       "      <td>30_49</td>\n",
       "      <td>2009</td>\n",
       "    </tr>\n",
       "    <tr>\n",
       "      <th>2</th>\n",
       "      <td>3</td>\n",
       "      <td>392190</td>\n",
       "      <td>41</td>\n",
       "      <td>Kolkata Knight Riders</td>\n",
       "      <td>Rajasthan Royals</td>\n",
       "      <td>2</td>\n",
       "      <td>4</td>\n",
       "      <td>38</td>\n",
       "      <td>107.9</td>\n",
       "      <td>Cape Town</td>\n",
       "      <td>0</td>\n",
       "      <td>1</td>\n",
       "      <td>0</td>\n",
       "      <td>0</td>\n",
       "      <td>30_49</td>\n",
       "      <td>2009</td>\n",
       "    </tr>\n",
       "    <tr>\n",
       "      <th>3</th>\n",
       "      <td>4</td>\n",
       "      <td>392197</td>\n",
       "      <td>12</td>\n",
       "      <td>Kolkata Knight Riders</td>\n",
       "      <td>Mumbai Indians</td>\n",
       "      <td>0</td>\n",
       "      <td>1</td>\n",
       "      <td>12</td>\n",
       "      <td>100.0</td>\n",
       "      <td>Port Elizabeth</td>\n",
       "      <td>0</td>\n",
       "      <td>0</td>\n",
       "      <td>0</td>\n",
       "      <td>0</td>\n",
       "      <td>10_29</td>\n",
       "      <td>2009</td>\n",
       "    </tr>\n",
       "    <tr>\n",
       "      <th>4</th>\n",
       "      <td>5</td>\n",
       "      <td>392199</td>\n",
       "      <td>40</td>\n",
       "      <td>Kolkata Knight Riders</td>\n",
       "      <td>Royal Challengers Bangalore</td>\n",
       "      <td>6</td>\n",
       "      <td>0</td>\n",
       "      <td>38</td>\n",
       "      <td>105.3</td>\n",
       "      <td>Durban</td>\n",
       "      <td>0</td>\n",
       "      <td>1</td>\n",
       "      <td>0</td>\n",
       "      <td>0</td>\n",
       "      <td>30_49</td>\n",
       "      <td>2009</td>\n",
       "    </tr>\n",
       "  </tbody>\n",
       "</table>\n",
       "</div>"
      ],
      "text/plain": [
       "   Unnamed: 0      id  Runs_scored  ... No_100 Runs_category  date\n",
       "0           1  392184           10  ...      0         10_29  2009\n",
       "1           2  392186           44  ...      0         30_49  2009\n",
       "2           3  392190           41  ...      0         30_49  2009\n",
       "3           4  392197           12  ...      0         10_29  2009\n",
       "4           5  392199           40  ...      0         30_49  2009\n",
       "\n",
       "[5 rows x 16 columns]"
      ]
     },
     "execution_count": 2,
     "metadata": {
      "tags": []
     },
     "output_type": "execute_result"
    }
   ],
   "source": [
    "df_bat = pd.read_csv('/content/drive/MyDrive/Sports Analytics_Biswas/bat_train_test_dataset.csv')\n",
    "df_bat.head()"
   ]
  },
  {
   "cell_type": "code",
   "execution_count": 3,
   "metadata": {
    "id": "CPMRYBdG2F0x"
   },
   "outputs": [],
   "source": [
    "df_bat= df_bat.drop(['Unnamed: 0','Runs_scored','id'],axis = 1)\n"
   ]
  },
  {
   "cell_type": "code",
   "execution_count": 4,
   "metadata": {
    "colab": {
     "base_uri": "https://localhost:8080/",
     "height": 443
    },
    "id": "PzoxwIpa2ght",
    "outputId": "1a60a09a-d4c0-47b8-fef1-2eb46359d690"
   },
   "outputs": [
    {
     "data": {
      "text/html": [
       "<div>\n",
       "<style scoped>\n",
       "    .dataframe tbody tr th:only-of-type {\n",
       "        vertical-align: middle;\n",
       "    }\n",
       "\n",
       "    .dataframe tbody tr th {\n",
       "        vertical-align: top;\n",
       "    }\n",
       "\n",
       "    .dataframe thead th {\n",
       "        text-align: right;\n",
       "    }\n",
       "</style>\n",
       "<table border=\"1\" class=\"dataframe\">\n",
       "  <thead>\n",
       "    <tr style=\"text-align: right;\">\n",
       "      <th></th>\n",
       "      <th>batting_team</th>\n",
       "      <th>bowling_team</th>\n",
       "      <th>No_4s</th>\n",
       "      <th>No_6s</th>\n",
       "      <th>Balls_faced</th>\n",
       "      <th>Strike_rate</th>\n",
       "      <th>city</th>\n",
       "      <th>Man_of_match</th>\n",
       "      <th>No_30</th>\n",
       "      <th>No_50</th>\n",
       "      <th>No_100</th>\n",
       "      <th>Runs_category</th>\n",
       "      <th>date</th>\n",
       "    </tr>\n",
       "  </thead>\n",
       "  <tbody>\n",
       "    <tr>\n",
       "      <th>0</th>\n",
       "      <td>2</td>\n",
       "      <td>2</td>\n",
       "      <td>1</td>\n",
       "      <td>1</td>\n",
       "      <td>12</td>\n",
       "      <td>83.3</td>\n",
       "      <td>6</td>\n",
       "      <td>0</td>\n",
       "      <td>0</td>\n",
       "      <td>0</td>\n",
       "      <td>0</td>\n",
       "      <td>1</td>\n",
       "      <td>2009</td>\n",
       "    </tr>\n",
       "    <tr>\n",
       "      <th>1</th>\n",
       "      <td>2</td>\n",
       "      <td>5</td>\n",
       "      <td>2</td>\n",
       "      <td>4</td>\n",
       "      <td>29</td>\n",
       "      <td>151.7</td>\n",
       "      <td>13</td>\n",
       "      <td>1</td>\n",
       "      <td>1</td>\n",
       "      <td>0</td>\n",
       "      <td>0</td>\n",
       "      <td>2</td>\n",
       "      <td>2009</td>\n",
       "    </tr>\n",
       "    <tr>\n",
       "      <th>2</th>\n",
       "      <td>2</td>\n",
       "      <td>10</td>\n",
       "      <td>2</td>\n",
       "      <td>4</td>\n",
       "      <td>38</td>\n",
       "      <td>107.9</td>\n",
       "      <td>6</td>\n",
       "      <td>0</td>\n",
       "      <td>1</td>\n",
       "      <td>0</td>\n",
       "      <td>0</td>\n",
       "      <td>2</td>\n",
       "      <td>2009</td>\n",
       "    </tr>\n",
       "    <tr>\n",
       "      <th>3</th>\n",
       "      <td>2</td>\n",
       "      <td>8</td>\n",
       "      <td>0</td>\n",
       "      <td>1</td>\n",
       "      <td>12</td>\n",
       "      <td>100.0</td>\n",
       "      <td>25</td>\n",
       "      <td>0</td>\n",
       "      <td>0</td>\n",
       "      <td>0</td>\n",
       "      <td>0</td>\n",
       "      <td>1</td>\n",
       "      <td>2009</td>\n",
       "    </tr>\n",
       "    <tr>\n",
       "      <th>4</th>\n",
       "      <td>2</td>\n",
       "      <td>13</td>\n",
       "      <td>6</td>\n",
       "      <td>0</td>\n",
       "      <td>38</td>\n",
       "      <td>105.3</td>\n",
       "      <td>13</td>\n",
       "      <td>0</td>\n",
       "      <td>1</td>\n",
       "      <td>0</td>\n",
       "      <td>0</td>\n",
       "      <td>2</td>\n",
       "      <td>2009</td>\n",
       "    </tr>\n",
       "    <tr>\n",
       "      <th>...</th>\n",
       "      <td>...</td>\n",
       "      <td>...</td>\n",
       "      <td>...</td>\n",
       "      <td>...</td>\n",
       "      <td>...</td>\n",
       "      <td>...</td>\n",
       "      <td>...</td>\n",
       "      <td>...</td>\n",
       "      <td>...</td>\n",
       "      <td>...</td>\n",
       "      <td>...</td>\n",
       "      <td>...</td>\n",
       "      <td>...</td>\n",
       "    </tr>\n",
       "    <tr>\n",
       "      <th>554</th>\n",
       "      <td>2</td>\n",
       "      <td>11</td>\n",
       "      <td>0</td>\n",
       "      <td>0</td>\n",
       "      <td>9</td>\n",
       "      <td>44.4</td>\n",
       "      <td>22</td>\n",
       "      <td>0</td>\n",
       "      <td>0</td>\n",
       "      <td>0</td>\n",
       "      <td>0</td>\n",
       "      <td>0</td>\n",
       "      <td>2017</td>\n",
       "    </tr>\n",
       "    <tr>\n",
       "      <th>555</th>\n",
       "      <td>2</td>\n",
       "      <td>13</td>\n",
       "      <td>0</td>\n",
       "      <td>0</td>\n",
       "      <td>6</td>\n",
       "      <td>0.0</td>\n",
       "      <td>3</td>\n",
       "      <td>0</td>\n",
       "      <td>0</td>\n",
       "      <td>0</td>\n",
       "      <td>0</td>\n",
       "      <td>0</td>\n",
       "      <td>2017</td>\n",
       "    </tr>\n",
       "    <tr>\n",
       "      <th>556</th>\n",
       "      <td>2</td>\n",
       "      <td>5</td>\n",
       "      <td>0</td>\n",
       "      <td>0</td>\n",
       "      <td>3</td>\n",
       "      <td>66.7</td>\n",
       "      <td>8</td>\n",
       "      <td>0</td>\n",
       "      <td>0</td>\n",
       "      <td>0</td>\n",
       "      <td>0</td>\n",
       "      <td>0</td>\n",
       "      <td>2017</td>\n",
       "    </tr>\n",
       "    <tr>\n",
       "      <th>557</th>\n",
       "      <td>2</td>\n",
       "      <td>8</td>\n",
       "      <td>0</td>\n",
       "      <td>3</td>\n",
       "      <td>9</td>\n",
       "      <td>222.2</td>\n",
       "      <td>22</td>\n",
       "      <td>0</td>\n",
       "      <td>0</td>\n",
       "      <td>0</td>\n",
       "      <td>0</td>\n",
       "      <td>1</td>\n",
       "      <td>2017</td>\n",
       "    </tr>\n",
       "    <tr>\n",
       "      <th>558</th>\n",
       "      <td>2</td>\n",
       "      <td>14</td>\n",
       "      <td>0</td>\n",
       "      <td>0</td>\n",
       "      <td>1</td>\n",
       "      <td>0.0</td>\n",
       "      <td>3</td>\n",
       "      <td>0</td>\n",
       "      <td>0</td>\n",
       "      <td>0</td>\n",
       "      <td>0</td>\n",
       "      <td>0</td>\n",
       "      <td>2017</td>\n",
       "    </tr>\n",
       "  </tbody>\n",
       "</table>\n",
       "<p>559 rows × 13 columns</p>\n",
       "</div>"
      ],
      "text/plain": [
       "     batting_team  bowling_team  No_4s  ...  No_100  Runs_category  date\n",
       "0               2             2      1  ...       0              1  2009\n",
       "1               2             5      2  ...       0              2  2009\n",
       "2               2            10      2  ...       0              2  2009\n",
       "3               2             8      0  ...       0              1  2009\n",
       "4               2            13      6  ...       0              2  2009\n",
       "..            ...           ...    ...  ...     ...            ...   ...\n",
       "554             2            11      0  ...       0              0  2017\n",
       "555             2            13      0  ...       0              0  2017\n",
       "556             2             5      0  ...       0              0  2017\n",
       "557             2             8      0  ...       0              1  2017\n",
       "558             2            14      0  ...       0              0  2017\n",
       "\n",
       "[559 rows x 13 columns]"
      ]
     },
     "execution_count": 4,
     "metadata": {
      "tags": []
     },
     "output_type": "execute_result"
    }
   ],
   "source": [
    "from sklearn.preprocessing import LabelEncoder\n",
    "\n",
    "def encode(Player,col1,col2,col3,col4):\n",
    "    le = LabelEncoder()\n",
    "    Player[col1] = le.fit_transform(Player[col1])\n",
    "    Player[col2] = le.fit_transform(Player[col2])\n",
    "    Player[col3] = le.fit_transform(Player[col3])\n",
    "    Player[col4] = le.fit_transform(Player[col4])\n",
    "encode(df_bat,'bowling_team','city','Runs_category','batting_team')\n",
    "df_bat\n"
   ]
  },
  {
   "cell_type": "code",
   "execution_count": 5,
   "metadata": {
    "colab": {
     "base_uri": "https://localhost:8080/",
     "height": 680
    },
    "id": "MprpdVhf4fEs",
    "outputId": "6bf5faeb-d0aa-4c33-fba3-2ab1c8bbfdfc"
   },
   "outputs": [
    {
     "data": {
      "image/png": "[encoded data removed]",
      "text/plain": [
       "<Figure size 1440x1080 with 2 Axes>"
      ]
     },
     "metadata": {
      "needs_background": "light",
      "tags": []
     },
     "output_type": "display_data"
    }
   ],
   "source": [
    "# Check correlation \n",
    "\n",
    "from matplotlib import pyplot as plt\n",
    "import seaborn as sns\n",
    "\n",
    "\n",
    "corr_df_bat =df_bat.corr()\n",
    "# Drop self-correlations\n",
    "dropSelf = np.zeros_like(corr_df_bat)\n",
    "dropSelf[np.triu_indices_from(dropSelf)] = True\n",
    "# Generate Color Map\n",
    "colormap = sns.diverging_palette(220, 10, as_cmap=True)\n",
    "fig, ax = plt.subplots(figsize=(20, 15))\n",
    "sns.heatmap(corr_df_bat,cmap=colormap,linewidths=.5, annot=True, mask=dropSelf)\n",
    "plt.title('Correlation Chart : Runs - Attributes')\n",
    "plt.show()\n"
   ]
  },
  {
   "cell_type": "code",
   "execution_count": 6,
   "metadata": {
    "id": "x4zabKpE5HvU"
   },
   "outputs": [],
   "source": [
    "target=df_bat['Runs_category']\n",
    "train=df_bat.drop('Runs_category', axis=1)"
   ]
  },
  {
   "cell_type": "code",
   "execution_count": 7,
   "metadata": {
    "id": "Yh4TYOAt7rdc"
   },
   "outputs": [],
   "source": [
    "#importing libraries for classifiers \n",
    "from sklearn.tree import DecisionTreeClassifier\n",
    "from sklearn.naive_bayes import GaussianNB\n",
    "from sklearn.ensemble import RandomForestClassifier\n",
    "from sklearn import svm\n",
    "\n",
    "#importing libraries for precision, accuracy score, barplot and table for comparision\n",
    "from sklearn.metrics import precision_score\n",
    "from sklearn.metrics import accuracy_score\n",
    "from seaborn import barplot\n",
    "from tabulate import tabulate\n",
    "\n"
   ]
  },
  {
   "cell_type": "code",
   "execution_count": 8,
   "metadata": {
    "id": "aCGKuOwX3RW-"
   },
   "outputs": [],
   "source": [
    "# Built a function to construct and compare different calssifiers \n",
    "def train_test_fun (X_train, X_test, y_train, y_test):\n",
    "  ML_models = dict()  #keeping record of accuracy of all models \n",
    "  # 1. Decison Tree \n",
    "  DT_model=DecisionTreeClassifier(criterion='gini', splitter='best',\n",
    "                             max_depth=16, min_samples_split=2,\n",
    "                             min_samples_leaf=1) # model\n",
    "  DT_model.fit(X_train,y_train)  #training the model \n",
    "  y_pred_DT=DT_model.predict(X_test) #testing the model\n",
    "  DT_accuracy=accuracy_score(y_test,y_pred_DT) # accuracy of model\n",
    "  DT_precision=precision_score(y_test,y_pred_DT,average='weighted') # Weighted precision of model\n",
    "  ML_models[\"Decision Tree\"] = DT_accuracy  #updating dictionary \n",
    "\n",
    "  # 2. Naive Bayes\n",
    "  NB_model=GaussianNB() # model\n",
    "  NB_model.fit(X_train,y_train) #training the model \n",
    "  y_pred_NB=NB_model.predict(X_test) #testing the model\n",
    "  NB_accuracy=accuracy_score(y_test,y_pred_NB)  # accuracy of model \n",
    "  NB_precision=precision_score(y_test,y_pred_NB,average='weighted')  # Weighted precision of model\n",
    "  ML_models[\"Naive Bayes\"] = NB_accuracy #updating dictionary\n",
    "\n",
    "  # 3. Random Forest\n",
    "  RF_model=RandomForestClassifier(n_estimators=50) #model\n",
    "  RF_model.fit(X_train,y_train) #training model \n",
    "  y_pred_RF=RF_model.predict(X_test) #testing model \n",
    "  RF_accuracy=accuracy_score(y_test,y_pred_RF) # accuracy of model \n",
    "  RF_precision=precision_score(y_test,y_pred_RF,average='weighted') # Weighted precision of model\n",
    "  ML_models[\"Random Forest\"] = RF_accuracy #updating dictionary\n",
    "\n",
    "  # 4. SVM \n",
    "  SVM_model = svm.SVC(kernel='linear') # Linear Kernel model\n",
    "  SVM_model.fit(X_train, y_train) #training model \n",
    "  y_pred_SVM = SVM_model.predict(X_test) #testing model \n",
    "  SVM_accuracy=accuracy_score(y_test,y_pred_SVM) \n",
    "  SVM_precision=precision_score(y_test,y_pred_SVM,average='weighted')\n",
    "  ML_models[\"SVM\"] = RF_accuracy #updating dictionary\n",
    "\n",
    "  #Table for comparision \n",
    "  print(tabulate([['Decision Tree', DT_accuracy,DT_precision], ['Naive Bayes', NB_accuracy,NB_precision],\n",
    "                  ['Random Forest', RF_accuracy,RF_precision],['SVM', SVM_accuracy,SVM_precision]], \n",
    "                 headers=['Model','Accuracy','Precision']))\n",
    "\n",
    "  #Barplot for Accuracy of models\n",
    "  names_models = list(ML_models.keys())\n",
    "  accuracy_models = list(map(float, ML_models.values()))\n",
    "\n",
    "\n",
    "  return barplot(names_models, accuracy_models)\n",
    "\n",
    "\n"
   ]
  },
  {
   "cell_type": "code",
   "execution_count": 9,
   "metadata": {
    "colab": {
     "base_uri": "https://localhost:8080/",
     "height": 445
    },
    "id": "M_AqxAXI_AjV",
    "outputId": "6b627b75-e686-4269-cf00-05d47703d4ae"
   },
   "outputs": [
    {
     "name": "stdout",
     "output_type": "stream",
     "text": [
      "Model            Accuracy    Precision\n",
      "-------------  ----------  -----------\n",
      "Decision Tree    0.922619     0.920722\n",
      "Naive Bayes      0.952381     0.954609\n",
      "Random Forest    0.946429     0.947499\n",
      "SVM              0.916667     0.922091\n"
     ]
    },
    {
     "name": "stderr",
     "output_type": "stream",
     "text": [
      "/usr/local/lib/python3.7/dist-packages/seaborn/_decorators.py:43: FutureWarning: Pass the following variables as keyword args: x, y. From version 0.12, the only valid positional argument will be `data`, and passing other arguments without an explicit keyword will result in an error or misinterpretation.\n",
      "  FutureWarning\n"
     ]
    },
    {
     "data": {
      "text/plain": [
       "<matplotlib.axes._subplots.AxesSubplot at 0x7fb34f59fd10>"
      ]
     },
     "execution_count": 9,
     "metadata": {
      "tags": []
     },
     "output_type": "execute_result"
    },
    {
     "data": {
      "image/png": "[encoded data removed]",
      "text/plain": [
       "<Figure size 432x288 with 1 Axes>"
      ]
     },
     "metadata": {
      "needs_background": "light",
      "tags": []
     },
     "output_type": "display_data"
    }
   ],
   "source": [
    "from sklearn.model_selection import train_test_split\n",
    "\n",
    "# train dataset 70% , Test dataset 30% \n",
    "X_train, X_test, y_train, y_test = train_test_split(train, target, test_size = 0.30, random_state = 0)\n",
    "train_test_fun (X_train, X_test, y_train, y_test)"
   ]
  },
  {
   "cell_type": "code",
   "execution_count": 10,
   "metadata": {
    "colab": {
     "base_uri": "https://localhost:8080/",
     "height": 441
    },
    "id": "Zpm-voLKD1ho",
    "outputId": "337594a7-e8a5-4db5-9ee1-60ec4501adaf"
   },
   "outputs": [
    {
     "name": "stdout",
     "output_type": "stream",
     "text": [
      "Model            Accuracy    Precision\n",
      "-------------  ----------  -----------\n",
      "Decision Tree    0.964286     0.96668\n",
      "Naive Bayes      0.964286     0.96627\n",
      "Random Forest    0.973214     0.975416\n",
      "SVM              0.955357     0.957061\n"
     ]
    },
    {
     "name": "stderr",
     "output_type": "stream",
     "text": [
      "/usr/local/lib/python3.7/dist-packages/seaborn/_decorators.py:43: FutureWarning: Pass the following variables as keyword args: x, y. From version 0.12, the only valid positional argument will be `data`, and passing other arguments without an explicit keyword will result in an error or misinterpretation.\n",
      "  FutureWarning\n"
     ]
    },
    {
     "data": {
      "text/plain": [
       "<matplotlib.axes._subplots.AxesSubplot at 0x7fb34f52ed10>"
      ]
     },
     "execution_count": 10,
     "metadata": {
      "tags": []
     },
     "output_type": "execute_result"
    },
    {
     "data": {
      "image/png": "[encoded data removed]",
      "text/plain": [
       "<Figure size 432x288 with 1 Axes>"
      ]
     },
     "metadata": {
      "needs_background": "light",
      "tags": []
     },
     "output_type": "display_data"
    }
   ],
   "source": [
    "# train dataset 80% , Test dataset 20% \n",
    "X_train, X_test, y_train, y_test = train_test_split(train, target, test_size = 0.20, random_state = 0)\n",
    "train_test_fun (X_train, X_test, y_train, y_test)"
   ]
  },
  {
   "cell_type": "code",
   "execution_count": 11,
   "metadata": {
    "colab": {
     "base_uri": "https://localhost:8080/",
     "height": 441
    },
    "id": "nRpCNBeDD97l",
    "outputId": "dfa741ee-6993-4a6d-e860-382faac79c36"
   },
   "outputs": [
    {
     "name": "stdout",
     "output_type": "stream",
     "text": [
      "Model            Accuracy    Precision\n",
      "-------------  ----------  -----------\n",
      "Decision Tree    0.982143     0.982919\n",
      "Naive Bayes      0.964286     0.968038\n",
      "Random Forest    0.982143     0.982919\n",
      "SVM              0.946429     0.949405\n"
     ]
    },
    {
     "name": "stderr",
     "output_type": "stream",
     "text": [
      "/usr/local/lib/python3.7/dist-packages/seaborn/_decorators.py:43: FutureWarning: Pass the following variables as keyword args: x, y. From version 0.12, the only valid positional argument will be `data`, and passing other arguments without an explicit keyword will result in an error or misinterpretation.\n",
      "  FutureWarning\n"
     ]
    },
    {
     "data": {
      "text/plain": [
       "<matplotlib.axes._subplots.AxesSubplot at 0x7fb34f4a8710>"
      ]
     },
     "execution_count": 11,
     "metadata": {
      "tags": []
     },
     "output_type": "execute_result"
    },
    {
     "data": {
      "image/png": "[encoded data removed]",
      "text/plain": [
       "<Figure size 432x288 with 1 Axes>"
      ]
     },
     "metadata": {
      "needs_background": "light",
      "tags": []
     },
     "output_type": "display_data"
    }
   ],
   "source": [
    "# train dataset 90% , Test dataset 10% \n",
    "X_train, X_test, y_train, y_test = train_test_split(train, target, test_size = 0.10, random_state = 0)\n",
    "train_test_fun  (X_train, X_test, y_train, y_test)"
   ]
  },
  {
   "cell_type": "markdown",
   "metadata": {
    "id": "6Y69GenTOA1X"
   },
   "source": [
    "Predicting Runs scored by Pollard ,Watson and Yuvraj"
   ]
  },
  {
   "cell_type": "code",
   "execution_count": 12,
   "metadata": {
    "id": "k7EVWHyM5ztP"
   },
   "outputs": [],
   "source": [
    "df_Pollard_Raw = pd.read_csv('/content/drive/MyDrive/Sports Analytics_Biswas/Pollard_pred_data.csv')\n",
    "df_Pollard_bat= df_Pollard_Raw.drop(['Unnamed: 0','id','Runs_scored','Runs_category'],axis = 1)\n",
    "df_Pollard_bat=df_Pollard_bat.sample(n=10, random_state=6) \n",
    "\n",
    "df_Watson_Raw = pd.read_csv('/content/drive/MyDrive/Sports Analytics_Biswas/Watson_pred_data.csv')\n",
    "df_Watson_bat= df_Watson_Raw.drop(['Unnamed: 0','id','Runs_scored','Runs_category'],axis = 1)\n",
    "df_Watson_bat=df_Watson_bat.sample(n=10, random_state=6)\n",
    "\n",
    "df_Yuvraj_Raw= pd.read_csv('/content/drive/MyDrive/Sports Analytics_Biswas/Yuvraj_pred_data.csv')\n",
    "df_Yuvraj_bat= df_Yuvraj_Raw.drop(['Unnamed: 0','id','Runs_scored','Runs_category'],axis = 1)\n",
    "df_Yuvraj_bat=df_Yuvraj_bat.sample(n=10, random_state=6)\n",
    "\n",
    "df_Yusuf_Raw= pd.read_csv('/content/drive/MyDrive/Sports Analytics_Biswas/Yusuf_pred_data.csv')\n",
    "df_Yusuf_bat= df_Yusuf_Raw.drop(['Unnamed: 0','id','Runs_scored','Runs_category'],axis = 1)\n",
    "df_Yusuf_bat=df_Yusuf_bat.sample(n=10, random_state=6)\n"
   ]
  },
  {
   "cell_type": "code",
   "execution_count": 13,
   "metadata": {
    "id": "qnBl316Z5z6c"
   },
   "outputs": [],
   "source": [
    "\n",
    "def encode(Player,col1,col2,col3):\n",
    "    le = LabelEncoder()\n",
    "    Player[col1] = le.fit_transform(Player[col1])\n",
    "    Player[col2] = le.fit_transform(Player[col2])\n",
    "    Player[col3] = le.fit_transform(Player[col3])\n",
    "encode(df_Pollard_bat,'bowling_team','city','batting_team')\n",
    "encode(df_Watson_bat,'bowling_team','city','batting_team')\n",
    "encode(df_Yuvraj_bat,'bowling_team','city','batting_team')\n",
    "encode(df_Yusuf_bat,'bowling_team','city','batting_team')"
   ]
  },
  {
   "cell_type": "code",
   "execution_count": 14,
   "metadata": {
    "colab": {
     "base_uri": "https://localhost:8080/"
    },
    "id": "PT0qjfPgGZ2T",
    "outputId": "f07189aa-74df-4609-eef8-95c212d2311b"
   },
   "outputs": [
    {
     "data": {
      "text/plain": [
       "RandomForestClassifier(bootstrap=True, ccp_alpha=0.0, class_weight=None,\n",
       "                       criterion='gini', max_depth=None, max_features='auto',\n",
       "                       max_leaf_nodes=None, max_samples=None,\n",
       "                       min_impurity_decrease=0.0, min_impurity_split=None,\n",
       "                       min_samples_leaf=1, min_samples_split=2,\n",
       "                       min_weight_fraction_leaf=0.0, n_estimators=50,\n",
       "                       n_jobs=None, oob_score=False, random_state=None,\n",
       "                       verbose=0, warm_start=False)"
      ]
     },
     "execution_count": 14,
     "metadata": {
      "tags": []
     },
     "output_type": "execute_result"
    }
   ],
   "source": [
    "#  Random Forest - most accurate model \n",
    "X_train, X_test, y_train, y_test = train_test_split(train, target, test_size = 0.10, random_state = 0)\n",
    "RF_model=RandomForestClassifier(n_estimators=50) #model\n",
    "RF_model.fit(X_train,y_train) #training model \n"
   ]
  },
  {
   "cell_type": "code",
   "execution_count": 15,
   "metadata": {
    "colab": {
     "base_uri": "https://localhost:8080/",
     "height": 175
    },
    "id": "tHpqx9R99sDZ",
    "outputId": "9d6ff6e5-2de1-4ccd-af7b-3407486c8d6f"
   },
   "outputs": [
    {
     "data": {
      "text/html": [
       "<div>\n",
       "<style scoped>\n",
       "    .dataframe tbody tr th:only-of-type {\n",
       "        vertical-align: middle;\n",
       "    }\n",
       "\n",
       "    .dataframe tbody tr th {\n",
       "        vertical-align: top;\n",
       "    }\n",
       "\n",
       "    .dataframe thead th {\n",
       "        text-align: right;\n",
       "    }\n",
       "</style>\n",
       "<table border=\"1\" class=\"dataframe\">\n",
       "  <thead>\n",
       "    <tr style=\"text-align: right;\">\n",
       "      <th></th>\n",
       "      <th>Player</th>\n",
       "      <th>Predicted_runs(10_matches)</th>\n",
       "    </tr>\n",
       "  </thead>\n",
       "  <tbody>\n",
       "    <tr>\n",
       "      <th>0</th>\n",
       "      <td>Watson</td>\n",
       "      <td>18</td>\n",
       "    </tr>\n",
       "    <tr>\n",
       "      <th>1</th>\n",
       "      <td>Pollard</td>\n",
       "      <td>13</td>\n",
       "    </tr>\n",
       "    <tr>\n",
       "      <th>2</th>\n",
       "      <td>Yuvraj</td>\n",
       "      <td>9</td>\n",
       "    </tr>\n",
       "    <tr>\n",
       "      <th>3</th>\n",
       "      <td>Yusuf</td>\n",
       "      <td>6</td>\n",
       "    </tr>\n",
       "  </tbody>\n",
       "</table>\n",
       "</div>"
      ],
      "text/plain": [
       "    Player  Predicted_runs(10_matches)\n",
       "0   Watson                          18\n",
       "1  Pollard                          13\n",
       "2   Yuvraj                           9\n",
       "3    Yusuf                           6"
      ]
     },
     "execution_count": 15,
     "metadata": {
      "tags": []
     },
     "output_type": "execute_result"
    }
   ],
   "source": [
    "from collections import Counter\n",
    "import numpy as np\n",
    "\n",
    "#Runs Prediction \n",
    "\n",
    "Runs_Pollard=RF_model.predict(df_Pollard_bat)\n",
    "Runs_Watson=RF_model.predict(df_Watson_bat)\n",
    "Runs_Yuvraj=RF_model.predict(df_Yuvraj_bat)\n",
    "Runs_Yusuf=RF_model.predict(df_Yusuf_bat)\n",
    "\n",
    "\n",
    "Predicted_Runs = {'Player':['Watson','Pollard', 'Yuvraj','Yusuf' ],\n",
    "        'Predicted_runs(10_matches)':[sum(Runs_Watson),sum(Runs_Pollard), sum(Runs_Yuvraj), sum(Runs_Yusuf) ]}\n",
    " \n",
    "# Create DataFrame\n",
    "Predicted_Runs_df = pd.DataFrame(Predicted_Runs)\n",
    "Predicted_Runs_df"
   ]
  },
  {
   "cell_type": "markdown",
   "metadata": {
    "id": "gnA4BUlnsIJV"
   },
   "source": [
    " **Bowling Analysis and Prediction**"
   ]
  },
  {
   "cell_type": "code",
   "execution_count": 16,
   "metadata": {
    "colab": {
     "base_uri": "https://localhost:8080/",
     "height": 669
    },
    "id": "RN4lgennsG_0",
    "outputId": "d16a4595-9212-4add-90cb-3dc625c08b1c"
   },
   "outputs": [
    {
     "data": {
      "text/html": [
       "<div>\n",
       "<style scoped>\n",
       "    .dataframe tbody tr th:only-of-type {\n",
       "        vertical-align: middle;\n",
       "    }\n",
       "\n",
       "    .dataframe tbody tr th {\n",
       "        vertical-align: top;\n",
       "    }\n",
       "\n",
       "    .dataframe thead th {\n",
       "        text-align: right;\n",
       "    }\n",
       "</style>\n",
       "<table border=\"1\" class=\"dataframe\">\n",
       "  <thead>\n",
       "    <tr style=\"text-align: right;\">\n",
       "      <th></th>\n",
       "      <th>Unnamed: 0</th>\n",
       "      <th>id</th>\n",
       "      <th>Wickets_taken</th>\n",
       "      <th>Overs_bowled</th>\n",
       "      <th>batting_team</th>\n",
       "      <th>bowling_team</th>\n",
       "      <th>Total_runs_conceded</th>\n",
       "      <th>Bowling_economy</th>\n",
       "      <th>city</th>\n",
       "      <th>3 Wickets</th>\n",
       "      <th>5 Wickets</th>\n",
       "      <th>Wickets_Category</th>\n",
       "      <th>date</th>\n",
       "    </tr>\n",
       "  </thead>\n",
       "  <tbody>\n",
       "    <tr>\n",
       "      <th>0</th>\n",
       "      <td>1</td>\n",
       "      <td>392184</td>\n",
       "      <td>0</td>\n",
       "      <td>1</td>\n",
       "      <td>Deccan Chargers</td>\n",
       "      <td>Kolkata Knight Riders</td>\n",
       "      <td>14</td>\n",
       "      <td>14.0</td>\n",
       "      <td>Cape Town</td>\n",
       "      <td>0</td>\n",
       "      <td>0</td>\n",
       "      <td>1</td>\n",
       "      <td>2009</td>\n",
       "    </tr>\n",
       "    <tr>\n",
       "      <th>1</th>\n",
       "      <td>2</td>\n",
       "      <td>392186</td>\n",
       "      <td>0</td>\n",
       "      <td>1</td>\n",
       "      <td>Kings XI Punjab</td>\n",
       "      <td>Kolkata Knight Riders</td>\n",
       "      <td>14</td>\n",
       "      <td>14.0</td>\n",
       "      <td>Durban</td>\n",
       "      <td>0</td>\n",
       "      <td>0</td>\n",
       "      <td>1</td>\n",
       "      <td>2009</td>\n",
       "    </tr>\n",
       "    <tr>\n",
       "      <th>2</th>\n",
       "      <td>3</td>\n",
       "      <td>392190</td>\n",
       "      <td>0</td>\n",
       "      <td>4</td>\n",
       "      <td>Rajasthan Royals</td>\n",
       "      <td>Kolkata Knight Riders</td>\n",
       "      <td>20</td>\n",
       "      <td>5.0</td>\n",
       "      <td>Cape Town</td>\n",
       "      <td>0</td>\n",
       "      <td>0</td>\n",
       "      <td>1</td>\n",
       "      <td>2009</td>\n",
       "    </tr>\n",
       "    <tr>\n",
       "      <th>3</th>\n",
       "      <td>4</td>\n",
       "      <td>392197</td>\n",
       "      <td>0</td>\n",
       "      <td>2</td>\n",
       "      <td>Mumbai Indians</td>\n",
       "      <td>Kolkata Knight Riders</td>\n",
       "      <td>24</td>\n",
       "      <td>12.0</td>\n",
       "      <td>Port Elizabeth</td>\n",
       "      <td>0</td>\n",
       "      <td>0</td>\n",
       "      <td>1</td>\n",
       "      <td>2009</td>\n",
       "    </tr>\n",
       "    <tr>\n",
       "      <th>4</th>\n",
       "      <td>5</td>\n",
       "      <td>392199</td>\n",
       "      <td>0</td>\n",
       "      <td>4</td>\n",
       "      <td>Royal Challengers Bangalore</td>\n",
       "      <td>Kolkata Knight Riders</td>\n",
       "      <td>31</td>\n",
       "      <td>7.8</td>\n",
       "      <td>Durban</td>\n",
       "      <td>0</td>\n",
       "      <td>0</td>\n",
       "      <td>1</td>\n",
       "      <td>2009</td>\n",
       "    </tr>\n",
       "    <tr>\n",
       "      <th>...</th>\n",
       "      <td>...</td>\n",
       "      <td>...</td>\n",
       "      <td>...</td>\n",
       "      <td>...</td>\n",
       "      <td>...</td>\n",
       "      <td>...</td>\n",
       "      <td>...</td>\n",
       "      <td>...</td>\n",
       "      <td>...</td>\n",
       "      <td>...</td>\n",
       "      <td>...</td>\n",
       "      <td>...</td>\n",
       "      <td>...</td>\n",
       "    </tr>\n",
       "    <tr>\n",
       "      <th>280</th>\n",
       "      <td>281</td>\n",
       "      <td>598034</td>\n",
       "      <td>0</td>\n",
       "      <td>2</td>\n",
       "      <td>Chennai Super Kings</td>\n",
       "      <td>Kolkata Knight Riders</td>\n",
       "      <td>18</td>\n",
       "      <td>9.0</td>\n",
       "      <td>Chennai</td>\n",
       "      <td>0</td>\n",
       "      <td>0</td>\n",
       "      <td>1</td>\n",
       "      <td>2013</td>\n",
       "    </tr>\n",
       "    <tr>\n",
       "      <th>281</th>\n",
       "      <td>282</td>\n",
       "      <td>598040</td>\n",
       "      <td>0</td>\n",
       "      <td>1</td>\n",
       "      <td>Delhi Daredevils</td>\n",
       "      <td>Kolkata Knight Riders</td>\n",
       "      <td>11</td>\n",
       "      <td>11.0</td>\n",
       "      <td>Raipur</td>\n",
       "      <td>0</td>\n",
       "      <td>0</td>\n",
       "      <td>1</td>\n",
       "      <td>2013</td>\n",
       "    </tr>\n",
       "    <tr>\n",
       "      <th>282</th>\n",
       "      <td>283</td>\n",
       "      <td>598057</td>\n",
       "      <td>0</td>\n",
       "      <td>1</td>\n",
       "      <td>Royal Challengers Bangalore</td>\n",
       "      <td>Kolkata Knight Riders</td>\n",
       "      <td>7</td>\n",
       "      <td>7.0</td>\n",
       "      <td>Ranchi</td>\n",
       "      <td>0</td>\n",
       "      <td>0</td>\n",
       "      <td>1</td>\n",
       "      <td>2013</td>\n",
       "    </tr>\n",
       "    <tr>\n",
       "      <th>283</th>\n",
       "      <td>284</td>\n",
       "      <td>598069</td>\n",
       "      <td>0</td>\n",
       "      <td>4</td>\n",
       "      <td>Sunrisers Hyderabad</td>\n",
       "      <td>Kolkata Knight Riders</td>\n",
       "      <td>29</td>\n",
       "      <td>7.2</td>\n",
       "      <td>Hyderabad</td>\n",
       "      <td>0</td>\n",
       "      <td>0</td>\n",
       "      <td>1</td>\n",
       "      <td>2013</td>\n",
       "    </tr>\n",
       "    <tr>\n",
       "      <th>284</th>\n",
       "      <td>285</td>\n",
       "      <td>734009</td>\n",
       "      <td>0</td>\n",
       "      <td>1</td>\n",
       "      <td>Mumbai Indians</td>\n",
       "      <td>Kolkata Knight Riders</td>\n",
       "      <td>10</td>\n",
       "      <td>10.0</td>\n",
       "      <td>Cuttack</td>\n",
       "      <td>0</td>\n",
       "      <td>0</td>\n",
       "      <td>1</td>\n",
       "      <td>2014</td>\n",
       "    </tr>\n",
       "  </tbody>\n",
       "</table>\n",
       "<p>285 rows × 13 columns</p>\n",
       "</div>"
      ],
      "text/plain": [
       "     Unnamed: 0      id  Wickets_taken  ...  5 Wickets Wickets_Category  date\n",
       "0             1  392184              0  ...          0                1  2009\n",
       "1             2  392186              0  ...          0                1  2009\n",
       "2             3  392190              0  ...          0                1  2009\n",
       "3             4  392197              0  ...          0                1  2009\n",
       "4             5  392199              0  ...          0                1  2009\n",
       "..          ...     ...            ...  ...        ...              ...   ...\n",
       "280         281  598034              0  ...          0                1  2013\n",
       "281         282  598040              0  ...          0                1  2013\n",
       "282         283  598057              0  ...          0                1  2013\n",
       "283         284  598069              0  ...          0                1  2013\n",
       "284         285  734009              0  ...          0                1  2014\n",
       "\n",
       "[285 rows x 13 columns]"
      ]
     },
     "execution_count": 16,
     "metadata": {
      "tags": []
     },
     "output_type": "execute_result"
    }
   ],
   "source": [
    "df_bowl = pd.read_csv('/content/drive/MyDrive/Sports Analytics_Biswas/train_test_dataset_bowl.csv')\n",
    "df_bowl"
   ]
  },
  {
   "cell_type": "code",
   "execution_count": 17,
   "metadata": {
    "colab": {
     "base_uri": "https://localhost:8080/",
     "height": 233
    },
    "id": "25uMHhabsn6G",
    "outputId": "91da5673-075a-48ce-a05f-d25c17ea562b"
   },
   "outputs": [
    {
     "data": {
      "text/html": [
       "<div>\n",
       "<style scoped>\n",
       "    .dataframe tbody tr th:only-of-type {\n",
       "        vertical-align: middle;\n",
       "    }\n",
       "\n",
       "    .dataframe tbody tr th {\n",
       "        vertical-align: top;\n",
       "    }\n",
       "\n",
       "    .dataframe thead th {\n",
       "        text-align: right;\n",
       "    }\n",
       "</style>\n",
       "<table border=\"1\" class=\"dataframe\">\n",
       "  <thead>\n",
       "    <tr style=\"text-align: right;\">\n",
       "      <th></th>\n",
       "      <th>Overs_bowled</th>\n",
       "      <th>batting_team</th>\n",
       "      <th>bowling_team</th>\n",
       "      <th>Total_runs_conceded</th>\n",
       "      <th>Bowling_economy</th>\n",
       "      <th>city</th>\n",
       "      <th>3 Wickets</th>\n",
       "      <th>5 Wickets</th>\n",
       "      <th>Wickets_Category</th>\n",
       "      <th>date</th>\n",
       "    </tr>\n",
       "  </thead>\n",
       "  <tbody>\n",
       "    <tr>\n",
       "      <th>0</th>\n",
       "      <td>1</td>\n",
       "      <td>Deccan Chargers</td>\n",
       "      <td>Kolkata Knight Riders</td>\n",
       "      <td>14</td>\n",
       "      <td>14.0</td>\n",
       "      <td>Cape Town</td>\n",
       "      <td>0</td>\n",
       "      <td>0</td>\n",
       "      <td>1</td>\n",
       "      <td>2009</td>\n",
       "    </tr>\n",
       "    <tr>\n",
       "      <th>1</th>\n",
       "      <td>1</td>\n",
       "      <td>Kings XI Punjab</td>\n",
       "      <td>Kolkata Knight Riders</td>\n",
       "      <td>14</td>\n",
       "      <td>14.0</td>\n",
       "      <td>Durban</td>\n",
       "      <td>0</td>\n",
       "      <td>0</td>\n",
       "      <td>1</td>\n",
       "      <td>2009</td>\n",
       "    </tr>\n",
       "    <tr>\n",
       "      <th>2</th>\n",
       "      <td>4</td>\n",
       "      <td>Rajasthan Royals</td>\n",
       "      <td>Kolkata Knight Riders</td>\n",
       "      <td>20</td>\n",
       "      <td>5.0</td>\n",
       "      <td>Cape Town</td>\n",
       "      <td>0</td>\n",
       "      <td>0</td>\n",
       "      <td>1</td>\n",
       "      <td>2009</td>\n",
       "    </tr>\n",
       "  </tbody>\n",
       "</table>\n",
       "</div>"
      ],
      "text/plain": [
       "   Overs_bowled      batting_team  ... Wickets_Category  date\n",
       "0             1   Deccan Chargers  ...                1  2009\n",
       "1             1   Kings XI Punjab  ...                1  2009\n",
       "2             4  Rajasthan Royals  ...                1  2009\n",
       "\n",
       "[3 rows x 10 columns]"
      ]
     },
     "execution_count": 17,
     "metadata": {
      "tags": []
     },
     "output_type": "execute_result"
    }
   ],
   "source": [
    "df_bowl= df_bowl.drop(['Unnamed: 0','id','Wickets_taken'],axis = 1)\n",
    "df_bowl.head(3)"
   ]
  },
  {
   "cell_type": "code",
   "execution_count": 18,
   "metadata": {
    "colab": {
     "base_uri": "https://localhost:8080/",
     "height": 181
    },
    "id": "NjYSiqVcuw1U",
    "outputId": "42d716f6-55cd-47e8-97c8-9ca4b1ae6f5e"
   },
   "outputs": [
    {
     "data": {
      "text/html": [
       "<div>\n",
       "<style scoped>\n",
       "    .dataframe tbody tr th:only-of-type {\n",
       "        vertical-align: middle;\n",
       "    }\n",
       "\n",
       "    .dataframe tbody tr th {\n",
       "        vertical-align: top;\n",
       "    }\n",
       "\n",
       "    .dataframe thead th {\n",
       "        text-align: right;\n",
       "    }\n",
       "</style>\n",
       "<table border=\"1\" class=\"dataframe\">\n",
       "  <thead>\n",
       "    <tr style=\"text-align: right;\">\n",
       "      <th></th>\n",
       "      <th>Overs_bowled</th>\n",
       "      <th>batting_team</th>\n",
       "      <th>bowling_team</th>\n",
       "      <th>Total_runs_conceded</th>\n",
       "      <th>Bowling_economy</th>\n",
       "      <th>city</th>\n",
       "      <th>3 Wickets</th>\n",
       "      <th>5 Wickets</th>\n",
       "      <th>Wickets_Category</th>\n",
       "      <th>date</th>\n",
       "    </tr>\n",
       "  </thead>\n",
       "  <tbody>\n",
       "    <tr>\n",
       "      <th>0</th>\n",
       "      <td>1</td>\n",
       "      <td>1</td>\n",
       "      <td>2</td>\n",
       "      <td>14</td>\n",
       "      <td>14.0</td>\n",
       "      <td>5</td>\n",
       "      <td>0</td>\n",
       "      <td>0</td>\n",
       "      <td>1</td>\n",
       "      <td>2009</td>\n",
       "    </tr>\n",
       "    <tr>\n",
       "      <th>1</th>\n",
       "      <td>1</td>\n",
       "      <td>3</td>\n",
       "      <td>2</td>\n",
       "      <td>14</td>\n",
       "      <td>14.0</td>\n",
       "      <td>12</td>\n",
       "      <td>0</td>\n",
       "      <td>0</td>\n",
       "      <td>1</td>\n",
       "      <td>2009</td>\n",
       "    </tr>\n",
       "    <tr>\n",
       "      <th>2</th>\n",
       "      <td>4</td>\n",
       "      <td>8</td>\n",
       "      <td>2</td>\n",
       "      <td>20</td>\n",
       "      <td>5.0</td>\n",
       "      <td>5</td>\n",
       "      <td>0</td>\n",
       "      <td>0</td>\n",
       "      <td>1</td>\n",
       "      <td>2009</td>\n",
       "    </tr>\n",
       "  </tbody>\n",
       "</table>\n",
       "</div>"
      ],
      "text/plain": [
       "   Overs_bowled  batting_team  bowling_team  ...  5 Wickets  Wickets_Category  date\n",
       "0             1             1             2  ...          0                 1  2009\n",
       "1             1             3             2  ...          0                 1  2009\n",
       "2             4             8             2  ...          0                 1  2009\n",
       "\n",
       "[3 rows x 10 columns]"
      ]
     },
     "execution_count": 18,
     "metadata": {
      "tags": []
     },
     "output_type": "execute_result"
    }
   ],
   "source": [
    "def encode(Player,col1,col2,col3,col4):\n",
    "    le = LabelEncoder()\n",
    "    Player[col1] = le.fit_transform(Player[col1])\n",
    "    Player[col2] = le.fit_transform(Player[col2])\n",
    "    Player[col3] = le.fit_transform(Player[col3])\n",
    "    Player[col3] = le.fit_transform(Player[col3])\n",
    "encode(df_bowl,'batting_team','city','bowling_team','Wickets_Category')\n",
    "df_bowl.head(3)"
   ]
  },
  {
   "cell_type": "code",
   "execution_count": 19,
   "metadata": {
    "colab": {
     "base_uri": "https://localhost:8080/",
     "height": 733
    },
    "id": "0I5ozZpkvmXd",
    "outputId": "de3ce436-c533-4842-ce8f-e5836ed9c85c"
   },
   "outputs": [
    {
     "data": {
      "image/png": "[encoded data removed]",
      "text/plain": [
       "<Figure size 1440x1080 with 2 Axes>"
      ]
     },
     "metadata": {
      "needs_background": "light",
      "tags": []
     },
     "output_type": "display_data"
    }
   ],
   "source": [
    "from matplotlib import pyplot as plt\n",
    "import seaborn as sns\n",
    "corr_df_bowl =df_bowl.corr()\n",
    "# Drop self-correlations\n",
    "dropSelf = np.zeros_like(corr_df_bowl)\n",
    "dropSelf[np.triu_indices_from(dropSelf)] = True\n",
    "# Generate Color Map\n",
    "colormap = sns.diverging_palette(220, 10, as_cmap=True)\n",
    "fig, ax = plt.subplots(figsize=(20, 15))\n",
    "sns.heatmap(corr_df_bowl,cmap=colormap,linewidths=.5, annot=True, mask=dropSelf)\n",
    "plt.title('Correlation Chart : Wickets - Attributes')\n",
    "plt.show()"
   ]
  },
  {
   "cell_type": "code",
   "execution_count": 20,
   "metadata": {
    "id": "6TXm5os8v1pH"
   },
   "outputs": [],
   "source": [
    "target=df_bowl['Wickets_Category']\n",
    "train=df_bowl.drop('Wickets_Category', axis=1)"
   ]
  },
  {
   "cell_type": "code",
   "execution_count": 21,
   "metadata": {
    "colab": {
     "base_uri": "https://localhost:8080/",
     "height": 545
    },
    "id": "YlNt-Ed6FLD0",
    "outputId": "5dd86ab4-c0c7-4eb8-bcbe-3b18b60ce4e7"
   },
   "outputs": [
    {
     "name": "stdout",
     "output_type": "stream",
     "text": [
      "Model            Accuracy    Precision\n",
      "-------------  ----------  -----------\n",
      "Decision Tree    0.662791     0.668227\n",
      "Naive Bayes      0.686047     0.683561\n",
      "Random Forest    0.709302     0.699336\n",
      "SVM              0.686047     0.670516\n"
     ]
    },
    {
     "name": "stderr",
     "output_type": "stream",
     "text": [
      "/usr/local/lib/python3.7/dist-packages/sklearn/metrics/_classification.py:1272: UndefinedMetricWarning: Precision is ill-defined and being set to 0.0 in labels with no predicted samples. Use `zero_division` parameter to control this behavior.\n",
      "  _warn_prf(average, modifier, msg_start, len(result))\n",
      "/usr/local/lib/python3.7/dist-packages/sklearn/metrics/_classification.py:1272: UndefinedMetricWarning: Precision is ill-defined and being set to 0.0 in labels with no predicted samples. Use `zero_division` parameter to control this behavior.\n",
      "  _warn_prf(average, modifier, msg_start, len(result))\n",
      "/usr/local/lib/python3.7/dist-packages/sklearn/metrics/_classification.py:1272: UndefinedMetricWarning: Precision is ill-defined and being set to 0.0 in labels with no predicted samples. Use `zero_division` parameter to control this behavior.\n",
      "  _warn_prf(average, modifier, msg_start, len(result))\n",
      "/usr/local/lib/python3.7/dist-packages/seaborn/_decorators.py:43: FutureWarning: Pass the following variables as keyword args: x, y. From version 0.12, the only valid positional argument will be `data`, and passing other arguments without an explicit keyword will result in an error or misinterpretation.\n",
      "  FutureWarning\n"
     ]
    },
    {
     "data": {
      "text/plain": [
       "<matplotlib.axes._subplots.AxesSubplot at 0x7fb34f30f590>"
      ]
     },
     "execution_count": 21,
     "metadata": {
      "tags": []
     },
     "output_type": "execute_result"
    },
    {
     "data": {
      "image/png": "[encoded data removed]",
      "text/plain": [
       "<Figure size 432x288 with 1 Axes>"
      ]
     },
     "metadata": {
      "needs_background": "light",
      "tags": []
     },
     "output_type": "display_data"
    }
   ],
   "source": [
    "# train dataset 70% , Test dataset 30% \n",
    "X_train, X_test, y_train, y_test = train_test_split(train, target, test_size = 0.30, random_state = 0)\n",
    "train_test_fun  (X_train, X_test, y_train, y_test)"
   ]
  },
  {
   "cell_type": "code",
   "execution_count": 22,
   "metadata": {
    "colab": {
     "base_uri": "https://localhost:8080/",
     "height": 511
    },
    "id": "K1vHm-3HIby_",
    "outputId": "01a9c8ad-3606-4dbd-e57a-bd7befc2ced4"
   },
   "outputs": [
    {
     "name": "stdout",
     "output_type": "stream",
     "text": [
      "Model            Accuracy    Precision\n",
      "-------------  ----------  -----------\n",
      "Decision Tree    0.614035     0.612121\n",
      "Naive Bayes      0.719298     0.704763\n",
      "Random Forest    0.684211     0.689026\n",
      "SVM              0.719298     0.739901\n"
     ]
    },
    {
     "name": "stderr",
     "output_type": "stream",
     "text": [
      "/usr/local/lib/python3.7/dist-packages/sklearn/metrics/_classification.py:1272: UndefinedMetricWarning: Precision is ill-defined and being set to 0.0 in labels with no predicted samples. Use `zero_division` parameter to control this behavior.\n",
      "  _warn_prf(average, modifier, msg_start, len(result))\n",
      "/usr/local/lib/python3.7/dist-packages/sklearn/metrics/_classification.py:1272: UndefinedMetricWarning: Precision is ill-defined and being set to 0.0 in labels with no predicted samples. Use `zero_division` parameter to control this behavior.\n",
      "  _warn_prf(average, modifier, msg_start, len(result))\n",
      "/usr/local/lib/python3.7/dist-packages/seaborn/_decorators.py:43: FutureWarning: Pass the following variables as keyword args: x, y. From version 0.12, the only valid positional argument will be `data`, and passing other arguments without an explicit keyword will result in an error or misinterpretation.\n",
      "  FutureWarning\n"
     ]
    },
    {
     "data": {
      "text/plain": [
       "<matplotlib.axes._subplots.AxesSubplot at 0x7fb34f269850>"
      ]
     },
     "execution_count": 22,
     "metadata": {
      "tags": []
     },
     "output_type": "execute_result"
    },
    {
     "data": {
      "image/png": "[encoded data removed]",
      "text/plain": [
       "<Figure size 432x288 with 1 Axes>"
      ]
     },
     "metadata": {
      "needs_background": "light",
      "tags": []
     },
     "output_type": "display_data"
    }
   ],
   "source": [
    "# train dataset 80% , Test dataset 20% \n",
    "X_train, X_test, y_train, y_test = train_test_split(train, target, test_size = 0.20, random_state = 0)\n",
    "train_test_fun  (X_train, X_test, y_train, y_test)"
   ]
  },
  {
   "cell_type": "code",
   "execution_count": 23,
   "metadata": {
    "colab": {
     "base_uri": "https://localhost:8080/",
     "height": 441
    },
    "id": "u7BqpBgjIiLU",
    "outputId": "22a42ae7-8566-427f-b97f-a2d467423cdd"
   },
   "outputs": [
    {
     "name": "stdout",
     "output_type": "stream",
     "text": [
      "Model            Accuracy    Precision\n",
      "-------------  ----------  -----------\n",
      "Decision Tree    0.551724     0.554377\n",
      "Naive Bayes      0.62069      0.702821\n",
      "Random Forest    0.689655     0.702821\n",
      "SVM              0.724138     0.778736\n"
     ]
    },
    {
     "name": "stderr",
     "output_type": "stream",
     "text": [
      "/usr/local/lib/python3.7/dist-packages/seaborn/_decorators.py:43: FutureWarning: Pass the following variables as keyword args: x, y. From version 0.12, the only valid positional argument will be `data`, and passing other arguments without an explicit keyword will result in an error or misinterpretation.\n",
      "  FutureWarning\n"
     ]
    },
    {
     "data": {
      "text/plain": [
       "<matplotlib.axes._subplots.AxesSubplot at 0x7fb34f1f12d0>"
      ]
     },
     "execution_count": 23,
     "metadata": {
      "tags": []
     },
     "output_type": "execute_result"
    },
    {
     "data": {
      "image/png": "[encoded data removed]",
      "text/plain": [
       "<Figure size 432x288 with 1 Axes>"
      ]
     },
     "metadata": {
      "needs_background": "light",
      "tags": []
     },
     "output_type": "display_data"
    }
   ],
   "source": [
    "# train dataset 90% , Test dataset 10% \n",
    "X_train, X_test, y_train, y_test = train_test_split(train, target, test_size = 0.10, random_state = 0)\n",
    "train_test_fun  (X_train, X_test, y_train, y_test)"
   ]
  },
  {
   "cell_type": "markdown",
   "metadata": {
    "id": "gSeFRq-qxq2d"
   },
   "source": [
    "Predicting Wickets taken by Pollard ,Watson and Yuvraj"
   ]
  },
  {
   "cell_type": "code",
   "execution_count": 49,
   "metadata": {
    "colab": {
     "base_uri": "https://localhost:8080/",
     "height": 591
    },
    "id": "7o2q_9-Nxvwm",
    "outputId": "be8ada77-8338-4460-9e19-e9727e759b81"
   },
   "outputs": [
    {
     "data": {
      "text/html": [
       "<div>\n",
       "<style scoped>\n",
       "    .dataframe tbody tr th:only-of-type {\n",
       "        vertical-align: middle;\n",
       "    }\n",
       "\n",
       "    .dataframe tbody tr th {\n",
       "        vertical-align: top;\n",
       "    }\n",
       "\n",
       "    .dataframe thead th {\n",
       "        text-align: right;\n",
       "    }\n",
       "</style>\n",
       "<table border=\"1\" class=\"dataframe\">\n",
       "  <thead>\n",
       "    <tr style=\"text-align: right;\">\n",
       "      <th></th>\n",
       "      <th>Overs_bowled</th>\n",
       "      <th>batting_team</th>\n",
       "      <th>bowling_team</th>\n",
       "      <th>Total_runs_conceded</th>\n",
       "      <th>Bowling_economy</th>\n",
       "      <th>city</th>\n",
       "      <th>3 Wickets</th>\n",
       "      <th>5 Wickets</th>\n",
       "      <th>date</th>\n",
       "    </tr>\n",
       "  </thead>\n",
       "  <tbody>\n",
       "    <tr>\n",
       "      <th>11</th>\n",
       "      <td>1</td>\n",
       "      <td>Sunrisers Hyderabad</td>\n",
       "      <td>Kolkata Knight Riders</td>\n",
       "      <td>17</td>\n",
       "      <td>17.0</td>\n",
       "      <td>Hyderabad</td>\n",
       "      <td>0</td>\n",
       "      <td>0</td>\n",
       "      <td>2017</td>\n",
       "    </tr>\n",
       "    <tr>\n",
       "      <th>4</th>\n",
       "      <td>1</td>\n",
       "      <td>Sunrisers Hyderabad</td>\n",
       "      <td>Kolkata Knight Riders</td>\n",
       "      <td>19</td>\n",
       "      <td>19.0</td>\n",
       "      <td>Kolkata</td>\n",
       "      <td>0</td>\n",
       "      <td>0</td>\n",
       "      <td>2015</td>\n",
       "    </tr>\n",
       "    <tr>\n",
       "      <th>5</th>\n",
       "      <td>1</td>\n",
       "      <td>Kings XI Punjab</td>\n",
       "      <td>Kolkata Knight Riders</td>\n",
       "      <td>6</td>\n",
       "      <td>6.0</td>\n",
       "      <td>Chandigarh</td>\n",
       "      <td>0</td>\n",
       "      <td>0</td>\n",
       "      <td>2016</td>\n",
       "    </tr>\n",
       "    <tr>\n",
       "      <th>0</th>\n",
       "      <td>4</td>\n",
       "      <td>Royal Challengers Bangalore</td>\n",
       "      <td>Kolkata Knight Riders</td>\n",
       "      <td>43</td>\n",
       "      <td>10.8</td>\n",
       "      <td>Kolkata</td>\n",
       "      <td>0</td>\n",
       "      <td>0</td>\n",
       "      <td>2015</td>\n",
       "    </tr>\n",
       "    <tr>\n",
       "      <th>9</th>\n",
       "      <td>1</td>\n",
       "      <td>Gujarat Lions</td>\n",
       "      <td>Kolkata Knight Riders</td>\n",
       "      <td>15</td>\n",
       "      <td>15.0</td>\n",
       "      <td>Rajkot</td>\n",
       "      <td>0</td>\n",
       "      <td>0</td>\n",
       "      <td>2017</td>\n",
       "    </tr>\n",
       "    <tr>\n",
       "      <th>3</th>\n",
       "      <td>2</td>\n",
       "      <td>Sunrisers Hyderabad</td>\n",
       "      <td>Kolkata Knight Riders</td>\n",
       "      <td>18</td>\n",
       "      <td>9.0</td>\n",
       "      <td>Visakhapatnam</td>\n",
       "      <td>0</td>\n",
       "      <td>0</td>\n",
       "      <td>2015</td>\n",
       "    </tr>\n",
       "    <tr>\n",
       "      <th>1</th>\n",
       "      <td>2</td>\n",
       "      <td>Chennai Super Kings</td>\n",
       "      <td>Kolkata Knight Riders</td>\n",
       "      <td>11</td>\n",
       "      <td>5.5</td>\n",
       "      <td>Kolkata</td>\n",
       "      <td>0</td>\n",
       "      <td>0</td>\n",
       "      <td>2015</td>\n",
       "    </tr>\n",
       "    <tr>\n",
       "      <th>10</th>\n",
       "      <td>1</td>\n",
       "      <td>Sunrisers Hyderabad</td>\n",
       "      <td>Kolkata Knight Riders</td>\n",
       "      <td>2</td>\n",
       "      <td>2.0</td>\n",
       "      <td>Kolkata</td>\n",
       "      <td>0</td>\n",
       "      <td>0</td>\n",
       "      <td>2017</td>\n",
       "    </tr>\n",
       "    <tr>\n",
       "      <th>7</th>\n",
       "      <td>1</td>\n",
       "      <td>Sunrisers Hyderabad</td>\n",
       "      <td>Kolkata Knight Riders</td>\n",
       "      <td>4</td>\n",
       "      <td>4.0</td>\n",
       "      <td>Kolkata</td>\n",
       "      <td>0</td>\n",
       "      <td>0</td>\n",
       "      <td>2016</td>\n",
       "    </tr>\n",
       "    <tr>\n",
       "      <th>12</th>\n",
       "      <td>1</td>\n",
       "      <td>Sunrisers Hyderabad</td>\n",
       "      <td>Kolkata Knight Riders</td>\n",
       "      <td>7</td>\n",
       "      <td>7.0</td>\n",
       "      <td>Bangalore</td>\n",
       "      <td>0</td>\n",
       "      <td>0</td>\n",
       "      <td>2017</td>\n",
       "    </tr>\n",
       "  </tbody>\n",
       "</table>\n",
       "</div>"
      ],
      "text/plain": [
       "    Overs_bowled                 batting_team  ... 5 Wickets  date\n",
       "11             1          Sunrisers Hyderabad  ...         0  2017\n",
       "4              1          Sunrisers Hyderabad  ...         0  2015\n",
       "5              1              Kings XI Punjab  ...         0  2016\n",
       "0              4  Royal Challengers Bangalore  ...         0  2015\n",
       "9              1                Gujarat Lions  ...         0  2017\n",
       "3              2          Sunrisers Hyderabad  ...         0  2015\n",
       "1              2          Chennai Super Kings  ...         0  2015\n",
       "10             1          Sunrisers Hyderabad  ...         0  2017\n",
       "7              1          Sunrisers Hyderabad  ...         0  2016\n",
       "12             1          Sunrisers Hyderabad  ...         0  2017\n",
       "\n",
       "[10 rows x 9 columns]"
      ]
     },
     "execution_count": 49,
     "metadata": {
      "tags": []
     },
     "output_type": "execute_result"
    }
   ],
   "source": [
    "df_Pollard_RawB = pd.read_csv('/content/drive/MyDrive/Sports Analytics_Biswas/Pollard_pred_data_bowl.csv')\n",
    "df_Pollard_B= df_Pollard_RawB.drop(['Unnamed: 0','id','Wickets_taken','Wickets_Category'],axis = 1)\n",
    "df_Pollard_B=df_Pollard_B.sample(n=10,random_state=2)\n",
    "df_Pollard_B\n",
    "\n",
    "df_Watson_RawB = pd.read_csv('/content/drive/MyDrive/Sports Analytics_Biswas/Watson_pred_data_bowl.csv')\n",
    "df_Watson_B= df_Watson_RawB.drop(['Unnamed: 0','id','Wickets_taken','Wickets_Category'],axis = 1)\n",
    "df_Watson_B=df_Watson_B.sample(n=10,random_state=2)\n",
    "df_Watson_B\n",
    "\n",
    "df_Yuvraj_RawB= pd.read_csv('/content/drive/MyDrive/Sports Analytics_Biswas/Yuvraj_pred_data_bowl.csv')\n",
    "df_Yuvraj_B= df_Yuvraj_RawB.drop(['Unnamed: 0','id','Wickets_taken','Wickets_Category'],axis = 1)\n",
    "df_Yuvraj_B=df_Yuvraj_B.sample(n=10,random_state=2)\n",
    "df_Yuvraj_B\n",
    "\n",
    "df_Yusuf_RawB= pd.read_csv('/content/drive/MyDrive/Sports Analytics_Biswas/Yusuf_pred_data_bowl.csv')\n",
    "df_Yusuf_B= df_Yusuf_RawB.drop(['Unnamed: 0','id','Wickets_taken','Wickets_Category'],axis = 1)\n",
    "df_Yusuf_B=df_Yusuf_B.sample(n=10,random_state=2)\n",
    "df_Yusuf_B\n"
   ]
  },
  {
   "cell_type": "code",
   "execution_count": 50,
   "metadata": {
    "id": "vnwwIQrAhko6"
   },
   "outputs": [],
   "source": [
    "def encode(Player,col1,col2,col3):\n",
    "    le = LabelEncoder()\n",
    "    Player[col1] = le.fit_transform(Player[col1])\n",
    "    Player[col2] = le.fit_transform(Player[col2])\n",
    "    Player[col3] = le.fit_transform(Player[col3])\n",
    "encode(df_Pollard_B,'batting_team','city','bowling_team')\n",
    "encode(df_Watson_B,'batting_team','city','bowling_team')\n",
    "encode(df_Yuvraj_B,'batting_team','city','bowling_team')\n",
    "encode(df_Yusuf_B,'batting_team','city','bowling_team')\n"
   ]
  },
  {
   "cell_type": "code",
   "execution_count": 51,
   "metadata": {
    "colab": {
     "base_uri": "https://localhost:8080/"
    },
    "id": "xtpB_r2BJ2iz",
    "outputId": "504cdc50-9069-40bb-8dc6-277e9b40d9f0"
   },
   "outputs": [
    {
     "data": {
      "text/plain": [
       "SVC(C=1.0, break_ties=False, cache_size=200, class_weight=None, coef0=0.0,\n",
       "    decision_function_shape='ovr', degree=3, gamma='scale', kernel='linear',\n",
       "    max_iter=-1, probability=False, random_state=None, shrinking=True,\n",
       "    tol=0.001, verbose=False)"
      ]
     },
     "execution_count": 51,
     "metadata": {
      "tags": []
     },
     "output_type": "execute_result"
    }
   ],
   "source": [
    "#The model performed best with 90-10 split on SVM with highest accuracy and precision\n",
    "\n",
    "# train dataset 90% , Test dataset 10% \n",
    "X_train, X_test, y_train, y_test = train_test_split(train, target, test_size = 0.10, random_state = 0)\n",
    "SVM_model = svm.SVC(kernel='linear') # Linear Kernel model\n",
    "SVM_model.fit(X_train, y_train) #training model \n"
   ]
  },
  {
   "cell_type": "code",
   "execution_count": 52,
   "metadata": {
    "colab": {
     "base_uri": "https://localhost:8080/",
     "height": 175
    },
    "id": "wtauSsschB5M",
    "outputId": "0a6ca874-baf9-4954-c943-a9bd6203f59a"
   },
   "outputs": [
    {
     "data": {
      "text/html": [
       "<div>\n",
       "<style scoped>\n",
       "    .dataframe tbody tr th:only-of-type {\n",
       "        vertical-align: middle;\n",
       "    }\n",
       "\n",
       "    .dataframe tbody tr th {\n",
       "        vertical-align: top;\n",
       "    }\n",
       "\n",
       "    .dataframe thead th {\n",
       "        text-align: right;\n",
       "    }\n",
       "</style>\n",
       "<table border=\"1\" class=\"dataframe\">\n",
       "  <thead>\n",
       "    <tr style=\"text-align: right;\">\n",
       "      <th></th>\n",
       "      <th>Player</th>\n",
       "      <th>Predicted_Wickets(10_matches)</th>\n",
       "    </tr>\n",
       "  </thead>\n",
       "  <tbody>\n",
       "    <tr>\n",
       "      <th>0</th>\n",
       "      <td>Pollard</td>\n",
       "      <td>19</td>\n",
       "    </tr>\n",
       "    <tr>\n",
       "      <th>1</th>\n",
       "      <td>Watson</td>\n",
       "      <td>22</td>\n",
       "    </tr>\n",
       "    <tr>\n",
       "      <th>2</th>\n",
       "      <td>Yuvraj</td>\n",
       "      <td>15</td>\n",
       "    </tr>\n",
       "    <tr>\n",
       "      <th>3</th>\n",
       "      <td>Yusuf</td>\n",
       "      <td>17</td>\n",
       "    </tr>\n",
       "  </tbody>\n",
       "</table>\n",
       "</div>"
      ],
      "text/plain": [
       "    Player  Predicted_Wickets(10_matches)\n",
       "0  Pollard                             19\n",
       "1   Watson                             22\n",
       "2   Yuvraj                             15\n",
       "3    Yusuf                             17"
      ]
     },
     "execution_count": 52,
     "metadata": {
      "tags": []
     },
     "output_type": "execute_result"
    }
   ],
   "source": [
    "Wickets_Pollard=SVM_model.predict(df_Pollard_B)\n",
    "Wickets_Watson=SVM_model.predict(df_Watson_B)\n",
    "Wickets_Yuvraj=SVM_model.predict(df_Yuvraj_B)\n",
    "Wickets_Yusuf=SVM_model.predict(df_Yusuf_B)\n",
    "\n",
    "\n",
    "\n",
    "Predicted_Wickets = {'Player':['Pollard', 'Watson', 'Yuvraj', 'Yusuf'],\n",
    "        'Predicted_Wickets(10_matches)':[sum(Wickets_Pollard), sum(Wickets_Watson),sum(Wickets_Yuvraj), sum(Wickets_Yusuf)]}\n",
    " \n",
    "# Create DataFrame\n",
    "Predicted_Wickets_df = pd.DataFrame(Predicted_Wickets)\n",
    "Predicted_Wickets_df"
   ]
  },
  {
   "cell_type": "markdown",
   "metadata": {
    "id": "smHuK6i75SE_"
   },
   "source": [
    "#Final Table (Runs + Wickets Predictions) in randomly selected 10 matches "
   ]
  },
  {
   "cell_type": "code",
   "execution_count": 53,
   "metadata": {
    "colab": {
     "base_uri": "https://localhost:8080/",
     "height": 175
    },
    "id": "vJfO0c497Ye_",
    "outputId": "b229440a-1ae7-4e4c-8e99-4b859acf01d1"
   },
   "outputs": [
    {
     "data": {
      "text/html": [
       "<div>\n",
       "<style scoped>\n",
       "    .dataframe tbody tr th:only-of-type {\n",
       "        vertical-align: middle;\n",
       "    }\n",
       "\n",
       "    .dataframe tbody tr th {\n",
       "        vertical-align: top;\n",
       "    }\n",
       "\n",
       "    .dataframe thead th {\n",
       "        text-align: right;\n",
       "    }\n",
       "</style>\n",
       "<table border=\"1\" class=\"dataframe\">\n",
       "  <thead>\n",
       "    <tr style=\"text-align: right;\">\n",
       "      <th></th>\n",
       "      <th>Player</th>\n",
       "      <th>Predicted_runs(10_matches)</th>\n",
       "      <th>Predicted_Wickets(10_matches)</th>\n",
       "    </tr>\n",
       "  </thead>\n",
       "  <tbody>\n",
       "    <tr>\n",
       "      <th>0</th>\n",
       "      <td>Watson</td>\n",
       "      <td>18</td>\n",
       "      <td>22</td>\n",
       "    </tr>\n",
       "    <tr>\n",
       "      <th>1</th>\n",
       "      <td>Pollard</td>\n",
       "      <td>13</td>\n",
       "      <td>19</td>\n",
       "    </tr>\n",
       "    <tr>\n",
       "      <th>2</th>\n",
       "      <td>Yuvraj</td>\n",
       "      <td>9</td>\n",
       "      <td>15</td>\n",
       "    </tr>\n",
       "    <tr>\n",
       "      <th>3</th>\n",
       "      <td>Yusuf</td>\n",
       "      <td>6</td>\n",
       "      <td>17</td>\n",
       "    </tr>\n",
       "  </tbody>\n",
       "</table>\n",
       "</div>"
      ],
      "text/plain": [
       "    Player  Predicted_runs(10_matches)  Predicted_Wickets(10_matches)\n",
       "0   Watson                          18                             22\n",
       "1  Pollard                          13                             19\n",
       "2   Yuvraj                           9                             15\n",
       "3    Yusuf                           6                             17"
      ]
     },
     "execution_count": 53,
     "metadata": {
      "tags": []
     },
     "output_type": "execute_result"
    }
   ],
   "source": [
    "Final_table=pd.merge(Predicted_Runs_df, Predicted_Wickets_df, on=[\"Player\"])\n",
    "Final_table"
   ]
  }
 ],
 "metadata": {
  "accelerator": "GPU",
  "colab": {
   "collapsed_sections": [],
   "name": "SA_Project_4.08.ipynb",
   "provenance": []
  },
  "kernelspec": {
   "display_name": "Python 3",
   "language": "python",
   "name": "python3"
  },
  "language_info": {
   "codemirror_mode": {
    "name": "ipython",
    "version": 3
   },
   "file_extension": ".py",
   "mimetype": "text/x-python",
   "name": "python",
   "nbconvert_exporter": "python",
   "pygments_lexer": "ipython3",
   "version": "3.7.6"
  }
 },
 "nbformat": 4,
 "nbformat_minor": 1
}
